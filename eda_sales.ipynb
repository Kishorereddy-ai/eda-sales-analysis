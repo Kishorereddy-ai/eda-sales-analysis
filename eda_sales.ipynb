{
 "cells": [
  {
   "cell_type": "code",
   "execution_count": null,
   "id": "80bf9944",
   "metadata": {},
   "outputs": [],
   "source": [
    "import pandas as pd \n",
    "import numpy as np\n"
   ]
  },
  {
   "cell_type": "code",
   "execution_count": null,
   "id": "de786e50",
   "metadata": {},
   "outputs": [],
   "source": [
    "df = pd.read_csv('data.csv', encoding = 'ISO-8859-1')\n"
   ]
  },
  {
   "cell_type": "code",
   "execution_count": null,
   "id": "02c8d058",
   "metadata": {},
   "outputs": [],
   "source": [
    "# ecom_data = pd.read_csv('data.csv', encoding = 'ISO-8859-1')\n"
   ]
  },
  {
   "cell_type": "code",
   "execution_count": null,
   "id": "b9cc409f",
   "metadata": {},
   "outputs": [],
   "source": [
    "df.shape\n"
   ]
  },
  {
   "cell_type": "code",
   "execution_count": null,
   "id": "32088007",
   "metadata": {},
   "outputs": [],
   "source": [
    "df.head()\n"
   ]
  },
  {
   "cell_type": "code",
   "execution_count": null,
   "id": "beedb7cc",
   "metadata": {},
   "outputs": [],
   "source": [
    "df.tail()\n"
   ]
  },
  {
   "cell_type": "code",
   "execution_count": null,
   "id": "3ad369e3",
   "metadata": {},
   "outputs": [],
   "source": [
    "df.columns\n"
   ]
  },
  {
   "cell_type": "code",
   "execution_count": null,
   "id": "c469d3eb",
   "metadata": {},
   "outputs": [],
   "source": [
    "for column in df.columns:\n",
    "    print(column)\n"
   ]
  },
  {
   "cell_type": "code",
   "execution_count": null,
   "id": "f12fd9f6",
   "metadata": {},
   "outputs": [],
   "source": [
    "d = {\n",
    "        'InvoiceNo': 'invoice_num',\n",
    "        'StockCode' : 'stock_code',\n",
    "        'Description' : 'description',\n",
    "        'Quantity' : 'quantity',\n",
    "        'InvoiceDate' : 'invoice_date',\n",
    "        'UnitPrice' : 'unit_price',\n",
    "        'CustomerID' : 'cust_id',\n",
    "        'Country' : 'country'\n",
    "}\n"
   ]
  },
  {
   "cell_type": "code",
   "execution_count": null,
   "id": "4e248067",
   "metadata": {},
   "outputs": [],
   "source": [
    "d\n"
   ]
  },
  {
   "cell_type": "code",
   "execution_count": null,
   "id": "e644cffe",
   "metadata": {},
   "outputs": [],
   "source": [
    "df.rename(columns = d, inplace = True)\n"
   ]
  },
  {
   "cell_type": "code",
   "execution_count": null,
   "id": "413ee71b",
   "metadata": {},
   "outputs": [],
   "source": [
    "df.columns\n"
   ]
  },
  {
   "cell_type": "code",
   "execution_count": null,
   "id": "11a9e2d5",
   "metadata": {},
   "outputs": [],
   "source": [
    "for i in df.columns:\n",
    "    print(i)\n"
   ]
  },
  {
   "cell_type": "code",
   "execution_count": null,
   "id": "ff54a488",
   "metadata": {},
   "outputs": [],
   "source": [
    "df.head()\n"
   ]
  },
  {
   "cell_type": "code",
   "execution_count": null,
   "id": "a6bdf4fd",
   "metadata": {},
   "outputs": [],
   "source": [
    "df.head()\n"
   ]
  },
  {
   "cell_type": "code",
   "execution_count": null,
   "id": "bb11d9b3",
   "metadata": {},
   "outputs": [],
   "source": [
    "df.dtypes\n"
   ]
  },
  {
   "cell_type": "code",
   "execution_count": null,
   "id": "d02caa41",
   "metadata": {},
   "outputs": [],
   "source": [
    "df.info()\n"
   ]
  },
  {
   "cell_type": "code",
   "execution_count": null,
   "id": "dc59f025",
   "metadata": {},
   "outputs": [],
   "source": [
    "df.isnull()\n"
   ]
  },
  {
   "cell_type": "code",
   "execution_count": null,
   "id": "80dd6e0e",
   "metadata": {},
   "outputs": [],
   "source": [
    "len(df.columns)\n"
   ]
  },
  {
   "cell_type": "code",
   "execution_count": null,
   "id": "7f2d1afd",
   "metadata": {},
   "outputs": [],
   "source": [
    "df.shape\n"
   ]
  },
  {
   "cell_type": "code",
   "execution_count": null,
   "id": "541e303c",
   "metadata": {},
   "outputs": [],
   "source": [
    "df.isnull().sum()\n"
   ]
  },
  {
   "cell_type": "code",
   "execution_count": null,
   "id": "a367e58a",
   "metadata": {},
   "outputs": [],
   "source": [
    "df.isnull().sum().sort_values()\n"
   ]
  },
  {
   "cell_type": "code",
   "execution_count": null,
   "id": "ebcb7b6f",
   "metadata": {},
   "outputs": [],
   "source": [
    "df.isnull().sum().sort_values(ascending = False)\n"
   ]
  },
  {
   "cell_type": "code",
   "execution_count": null,
   "id": "3f09d575",
   "metadata": {},
   "outputs": [],
   "source": [
    "df.dtypes\n"
   ]
  },
  {
   "cell_type": "code",
   "execution_count": null,
   "id": "bba114d9",
   "metadata": {},
   "outputs": [],
   "source": [
    "df.head(2)\n"
   ]
  },
  {
   "cell_type": "code",
   "execution_count": null,
   "id": "a3d3fab7",
   "metadata": {},
   "outputs": [],
   "source": [
    "df['invoice_date'] = pd.to_datetime(df.invoice_date, format='%m/%d/%Y %H:%M')\n"
   ]
  },
  {
   "cell_type": "code",
   "execution_count": null,
   "id": "c96f978d",
   "metadata": {},
   "outputs": [],
   "source": [
    "df.dtypes\n"
   ]
  },
  {
   "cell_type": "code",
   "execution_count": null,
   "id": "d86d9fd6",
   "metadata": {},
   "outputs": [],
   "source": [
    "df.head()\n"
   ]
  },
  {
   "cell_type": "code",
   "execution_count": null,
   "id": "ceff9113",
   "metadata": {},
   "outputs": [],
   "source": [
    "df.description\n"
   ]
  },
  {
   "cell_type": "code",
   "execution_count": null,
   "id": "ff3b5a00",
   "metadata": {},
   "outputs": [],
   "source": [
    "df.description.str.lower()\n"
   ]
  },
  {
   "cell_type": "code",
   "execution_count": null,
   "id": "0501fd9d",
   "metadata": {},
   "outputs": [],
   "source": [
    "df.head(3)\n"
   ]
  },
  {
   "cell_type": "code",
   "execution_count": null,
   "id": "bc37405d",
   "metadata": {},
   "outputs": [],
   "source": [
    "df['description'] = df.description.str.lower()\n"
   ]
  },
  {
   "cell_type": "code",
   "execution_count": null,
   "id": "60e3fde5",
   "metadata": {},
   "outputs": [],
   "source": [
    "df.head()\n"
   ]
  },
  {
   "cell_type": "code",
   "execution_count": null,
   "id": "d6bc2c81",
   "metadata": {},
   "outputs": [],
   "source": [
    "df.isnull().sum().sort_values(ascending = False)\n"
   ]
  },
  {
   "cell_type": "code",
   "execution_count": null,
   "id": "daa03cbc",
   "metadata": {},
   "outputs": [],
   "source": [
    "df_new = df.dropna()\n"
   ]
  },
  {
   "cell_type": "code",
   "execution_count": null,
   "id": "bc909963",
   "metadata": {},
   "outputs": [],
   "source": [
    "df_new.isnull().sum()\n"
   ]
  },
  {
   "cell_type": "code",
   "execution_count": null,
   "id": "51350f3c",
   "metadata": {},
   "outputs": [],
   "source": [
    "df_new.info()\n"
   ]
  },
  {
   "cell_type": "code",
   "execution_count": null,
   "id": "f2df7c32",
   "metadata": {},
   "outputs": [],
   "source": [
    "df_new.head()\n"
   ]
  },
  {
   "cell_type": "code",
   "execution_count": null,
   "id": "1ec218c0",
   "metadata": {},
   "outputs": [],
   "source": [
    "df_new.dtypes\n"
   ]
  },
  {
   "cell_type": "code",
   "execution_count": null,
   "id": "e89e2535",
   "metadata": {},
   "outputs": [],
   "source": [
    "df_new['cust_id']\n"
   ]
  },
  {
   "cell_type": "code",
   "execution_count": null,
   "id": "9f0134b7",
   "metadata": {},
   "outputs": [],
   "source": [
    "import warnings\n",
    "warnings.filterwarnings('ignore')\n"
   ]
  },
  {
   "cell_type": "code",
   "execution_count": null,
   "id": "b3245850",
   "metadata": {},
   "outputs": [],
   "source": [
    "df_new['cust_id'] = df_new['cust_id'].astype('int64')\n"
   ]
  },
  {
   "cell_type": "code",
   "execution_count": null,
   "id": "7b6af2fb",
   "metadata": {},
   "outputs": [],
   "source": [
    "df_new.head()\n"
   ]
  },
  {
   "cell_type": "code",
   "execution_count": null,
   "id": "c148ce8c",
   "metadata": {},
   "outputs": [],
   "source": [
    "df_new.info()\n"
   ]
  },
  {
   "cell_type": "code",
   "execution_count": null,
   "id": "d7c00e63",
   "metadata": {},
   "outputs": [],
   "source": [
    "df_new.describe()\n"
   ]
  },
  {
   "cell_type": "code",
   "execution_count": null,
   "id": "d1b793ed",
   "metadata": {},
   "outputs": [],
   "source": [
    "df_new.describe().round(2)\n"
   ]
  },
  {
   "cell_type": "code",
   "execution_count": null,
   "id": "c20b853a",
   "metadata": {},
   "outputs": [],
   "source": [
    "values = [1, 2, 3, -4, -5, 6, 7]\n"
   ]
  },
  {
   "cell_type": "code",
   "execution_count": null,
   "id": "4da42c1c",
   "metadata": {},
   "outputs": [],
   "source": [
    "for value in values:\n",
    "    print(value)\n"
   ]
  },
  {
   "cell_type": "code",
   "execution_count": null,
   "id": "5b595178",
   "metadata": {},
   "outputs": [],
   "source": [
    "for value in values:\n",
    "    if value >= 0:\n",
    "        print(value)\n"
   ]
  },
  {
   "cell_type": "code",
   "execution_count": null,
   "id": "d4686bd7",
   "metadata": {},
   "outputs": [],
   "source": [
    "df_new.quantity > 0\n"
   ]
  },
  {
   "cell_type": "code",
   "execution_count": null,
   "id": "9dc19967",
   "metadata": {},
   "outputs": [],
   "source": [
    "con = df_new.quantity > 0\n"
   ]
  },
  {
   "cell_type": "code",
   "execution_count": null,
   "id": "b0b01033",
   "metadata": {},
   "outputs": [],
   "source": [
    "df_new = df_new[con]\n"
   ]
  },
  {
   "cell_type": "code",
   "execution_count": null,
   "id": "58455ffc",
   "metadata": {},
   "outputs": [],
   "source": [
    "df_new.describe().round(2)\n"
   ]
  },
  {
   "cell_type": "code",
   "execution_count": null,
   "id": "54fc2bdb",
   "metadata": {},
   "outputs": [],
   "source": [
    "df_new.head()\n"
   ]
  },
  {
   "cell_type": "code",
   "execution_count": null,
   "id": "b31af222",
   "metadata": {},
   "outputs": [],
   "source": [
    "df_new.shape\n"
   ]
  },
  {
   "cell_type": "code",
   "execution_count": null,
   "id": "9e1534ef",
   "metadata": {},
   "outputs": [],
   "source": [
    "df_new['amount_spent'] = df_new['quantity'] * df_new['unit_price']\n"
   ]
  },
  {
   "cell_type": "code",
   "execution_count": null,
   "id": "88a8090c",
   "metadata": {},
   "outputs": [],
   "source": [
    "df_new.head()\n"
   ]
  },
  {
   "cell_type": "code",
   "execution_count": null,
   "id": "c6fc05fb",
   "metadata": {},
   "outputs": [],
   "source": [
    "for col in df_new.columns:\n",
    "    print(col)\n"
   ]
  },
  {
   "cell_type": "code",
   "execution_count": null,
   "id": "a91679d2",
   "metadata": {},
   "outputs": [],
   "source": [
    "col_order = ['invoice_num','invoice_date','stock_code','description','quantity','unit_price','amount_spent','cust_id','country']\n"
   ]
  },
  {
   "cell_type": "code",
   "execution_count": null,
   "id": "38ad6087",
   "metadata": {},
   "outputs": [],
   "source": [
    "df_new = df_new[col_order]\n"
   ]
  },
  {
   "cell_type": "code",
   "execution_count": null,
   "id": "78601779",
   "metadata": {},
   "outputs": [],
   "source": [
    "df_new.head()\n"
   ]
  },
  {
   "cell_type": "code",
   "execution_count": null,
   "id": "43400c5a",
   "metadata": {},
   "outputs": [],
   "source": [
    "df_new.shape\n"
   ]
  },
  {
   "cell_type": "code",
   "execution_count": null,
   "id": "ecc764c9",
   "metadata": {},
   "outputs": [],
   "source": [
    "len(df_new.columns)\n"
   ]
  },
  {
   "cell_type": "code",
   "execution_count": null,
   "id": "9b146219",
   "metadata": {},
   "outputs": [],
   "source": [
    "df_new['invoice_date']\n"
   ]
  },
  {
   "cell_type": "code",
   "execution_count": null,
   "id": "3a4078d3",
   "metadata": {},
   "outputs": [],
   "source": [
    "df_new.invoice_date\n"
   ]
  },
  {
   "cell_type": "code",
   "execution_count": null,
   "id": "20965595",
   "metadata": {},
   "outputs": [],
   "source": [
    "df_new['invoice_date'].dt.year\n"
   ]
  },
  {
   "cell_type": "code",
   "execution_count": null,
   "id": "a070985b",
   "metadata": {},
   "outputs": [],
   "source": [
    "df_new['invoice_date'].dt.month\n"
   ]
  },
  {
   "cell_type": "code",
   "execution_count": null,
   "id": "777ba401",
   "metadata": {},
   "outputs": [],
   "source": [
    "df_new.head(2)\n"
   ]
  },
  {
   "cell_type": "code",
   "execution_count": null,
   "id": "c736b6cf",
   "metadata": {},
   "outputs": [],
   "source": [
    "y = 2010\n",
    "m = 12\n"
   ]
  },
  {
   "cell_type": "code",
   "execution_count": null,
   "id": "be886840",
   "metadata": {},
   "outputs": [],
   "source": [
    "y_m = 100*2010 + 12\n"
   ]
  },
  {
   "cell_type": "code",
   "execution_count": null,
   "id": "6ed30cdc",
   "metadata": {},
   "outputs": [],
   "source": [
    "y_m\n"
   ]
  },
  {
   "cell_type": "code",
   "execution_count": null,
   "id": "c52921a0",
   "metadata": {},
   "outputs": [],
   "source": [
    "c1 = 'year_month'\n"
   ]
  },
  {
   "cell_type": "code",
   "execution_count": null,
   "id": "f2946ab3",
   "metadata": {},
   "outputs": [],
   "source": [
    "v1 = df_new['invoice_date'].map(lambda col: 100*(col.year) + col.month)\n"
   ]
  },
  {
   "cell_type": "code",
   "execution_count": null,
   "id": "327d324f",
   "metadata": {},
   "outputs": [],
   "source": [
    "df_new.insert(loc = 2, column = c1, value = v1)\n"
   ]
  },
  {
   "cell_type": "code",
   "execution_count": null,
   "id": "4df1ceec",
   "metadata": {},
   "outputs": [],
   "source": [
    "df_new\n"
   ]
  },
  {
   "cell_type": "code",
   "execution_count": null,
   "id": "2dd8ea14",
   "metadata": {},
   "outputs": [],
   "source": [
    "df_new.head()\n"
   ]
  },
  {
   "cell_type": "code",
   "execution_count": null,
   "id": "54b357d6",
   "metadata": {},
   "outputs": [],
   "source": [
    "c2 = 'month'\n"
   ]
  },
  {
   "cell_type": "code",
   "execution_count": null,
   "id": "b39225f2",
   "metadata": {},
   "outputs": [],
   "source": [
    "v2 = df_new.invoice_date.dt.month\n"
   ]
  },
  {
   "cell_type": "code",
   "execution_count": null,
   "id": "8ef15ce8",
   "metadata": {},
   "outputs": [],
   "source": [
    "df_new.insert(loc = 3, column = c2, value = v2)\n"
   ]
  },
  {
   "cell_type": "code",
   "execution_count": null,
   "id": "d618eb47",
   "metadata": {},
   "outputs": [],
   "source": [
    "df_new.head()\n"
   ]
  },
  {
   "cell_type": "code",
   "execution_count": null,
   "id": "7be349bd",
   "metadata": {},
   "outputs": [],
   "source": [
    "df_new.invoice_date\n"
   ]
  },
  {
   "cell_type": "code",
   "execution_count": null,
   "id": "f20fd9fc",
   "metadata": {},
   "outputs": [],
   "source": [
    "df_new.invoice_date.dt.dayofweek\n"
   ]
  },
  {
   "cell_type": "code",
   "execution_count": null,
   "id": "bdca3ca3",
   "metadata": {},
   "outputs": [],
   "source": [
    "c3 = 'day'\n"
   ]
  },
  {
   "cell_type": "code",
   "execution_count": null,
   "id": "eac3e3bf",
   "metadata": {},
   "outputs": [],
   "source": [
    "v3 = (df_new.invoice_date.dt.dayofweek)+1\n"
   ]
  },
  {
   "cell_type": "code",
   "execution_count": null,
   "id": "2e4953b0",
   "metadata": {},
   "outputs": [],
   "source": [
    "df_new.insert(loc = 4, column = c3, value = v3)\n"
   ]
  },
  {
   "cell_type": "code",
   "execution_count": null,
   "id": "a8071007",
   "metadata": {},
   "outputs": [],
   "source": [
    "df_new.head()\n"
   ]
  },
  {
   "cell_type": "code",
   "execution_count": null,
   "id": "ec689005",
   "metadata": {},
   "outputs": [],
   "source": [
    "df_new.invoice_date\n"
   ]
  },
  {
   "cell_type": "code",
   "execution_count": null,
   "id": "12e4d798",
   "metadata": {},
   "outputs": [],
   "source": [
    "# dir(df_new.invoice_date)\n"
   ]
  },
  {
   "cell_type": "code",
   "execution_count": null,
   "id": "253bba4e",
   "metadata": {},
   "outputs": [],
   "source": [
    "# dir(df_new.invoice_date.dt)\n"
   ]
  },
  {
   "cell_type": "code",
   "execution_count": null,
   "id": "ff5eaf10",
   "metadata": {},
   "outputs": [],
   "source": [
    "# df_new.invoice_date.dt.hour\n"
   ]
  },
  {
   "cell_type": "code",
   "execution_count": null,
   "id": "90a03941",
   "metadata": {},
   "outputs": [],
   "source": [
    "c4 = \"hour\"\n"
   ]
  },
  {
   "cell_type": "code",
   "execution_count": null,
   "id": "2aa6b12c",
   "metadata": {},
   "outputs": [],
   "source": [
    "v4 = df_new.invoice_date.dt.hour\n"
   ]
  },
  {
   "cell_type": "code",
   "execution_count": null,
   "id": "a6950cd8",
   "metadata": {},
   "outputs": [],
   "source": [
    "df_new.insert(loc = 5, column = c4, value = v4)\n"
   ]
  },
  {
   "cell_type": "code",
   "execution_count": null,
   "id": "af087c53",
   "metadata": {},
   "outputs": [],
   "source": [
    "df_new.head()\n"
   ]
  },
  {
   "cell_type": "code",
   "execution_count": null,
   "id": "c1ee7acd",
   "metadata": {},
   "outputs": [],
   "source": [
    "df_new.columns\n"
   ]
  },
  {
   "cell_type": "code",
   "execution_count": null,
   "id": "e2cd6707",
   "metadata": {},
   "outputs": [],
   "source": [
    "for col in df_new.columns:\n",
    "    print(col)\n"
   ]
  },
  {
   "cell_type": "code",
   "execution_count": null,
   "id": "1ce806f4",
   "metadata": {},
   "outputs": [],
   "source": [
    "df_new.groupby(by = ['cust_id']).count()\n"
   ]
  },
  {
   "cell_type": "code",
   "execution_count": null,
   "id": "8387ad4e",
   "metadata": {},
   "outputs": [],
   "source": [
    "df_new.groupby(by = ['cust_id','country']).count()\n"
   ]
  },
  {
   "cell_type": "code",
   "execution_count": null,
   "id": "3faaa8f1",
   "metadata": {},
   "outputs": [],
   "source": [
    "df_new.groupby(by = ['cust_id','country'])['invoice_num'].count()\n"
   ]
  },
  {
   "cell_type": "code",
   "execution_count": null,
   "id": "650cc4f4",
   "metadata": {},
   "outputs": [],
   "source": [
    "df_new.groupby(by = ['cust_id','country'], as_index = False)['invoice_num'].count()\n"
   ]
  },
  {
   "cell_type": "code",
   "execution_count": null,
   "id": "6be8d6cc",
   "metadata": {},
   "outputs": [],
   "source": [
    "df_new.groupby(by=['cust_id','country'], as_index=False)['invoice_num'].count().head()\n"
   ]
  },
  {
   "cell_type": "code",
   "execution_count": null,
   "id": "5ec7a62b",
   "metadata": {},
   "outputs": [],
   "source": [
    "import matplotlib.pyplot as plt\n",
    "import seaborn as sns \n"
   ]
  },
  {
   "cell_type": "code",
   "execution_count": null,
   "id": "0f00b437",
   "metadata": {},
   "outputs": [],
   "source": [
    "df_new.groupby(by=['cust_id','country'], as_index=False)['invoice_num'].count()\n"
   ]
  },
  {
   "cell_type": "code",
   "execution_count": null,
   "id": "8d89a85d",
   "metadata": {},
   "outputs": [],
   "source": [
    "orders = df_new.groupby(by=['cust_id','country'], as_index=False)['invoice_num'].count()\n"
   ]
  },
  {
   "cell_type": "code",
   "execution_count": null,
   "id": "d9f7dbde",
   "metadata": {},
   "outputs": [],
   "source": [
    "orders\n"
   ]
  },
  {
   "cell_type": "code",
   "execution_count": null,
   "id": "95828d09",
   "metadata": {},
   "outputs": [],
   "source": [
    "orders.sort_values(by = 'invoice_num', ascending = False).head()\n"
   ]
  },
  {
   "cell_type": "code",
   "execution_count": null,
   "id": "35f1f5c0",
   "metadata": {},
   "outputs": [],
   "source": [
    "orders = df_new.groupby(by=['cust_id','country'], as_index=False)['invoice_num'].count()\n",
    "\n",
    "plt.subplots(figsize=(15,6))\n",
    "\n",
    "plt.plot(orders.cust_id, orders.invoice_num)\n",
    "\n",
    "plt.xlabel('Customers ID')\n",
    "plt.ylabel('Number of Orders')\n",
    "plt.title('Number of Orders for different Customers')\n",
    "\n",
    "plt.show()\n"
   ]
  },
  {
   "cell_type": "code",
   "execution_count": null,
   "id": "c5e59f41",
   "metadata": {},
   "outputs": [],
   "source": [
    "df_new.groupby(by = ['cust_id', 'country']).sum()\n"
   ]
  },
  {
   "cell_type": "code",
   "execution_count": null,
   "id": "fe186f42",
   "metadata": {},
   "outputs": [],
   "source": [
    "df_new.groupby(by = ['cust_id', 'country'])['amount_spent'].sum()\n"
   ]
  },
  {
   "cell_type": "code",
   "execution_count": null,
   "id": "dc531460",
   "metadata": {},
   "outputs": [],
   "source": [
    "df_new.groupby(by = ['cust_id', 'country'], as_index = False)['amount_spent'].sum()\n"
   ]
  },
  {
   "cell_type": "code",
   "execution_count": null,
   "id": "3bc97470",
   "metadata": {},
   "outputs": [],
   "source": [
    "money_spent = df_new.groupby(by = ['cust_id', 'country'], as_index = False)['amount_spent'].sum()\n"
   ]
  },
  {
   "cell_type": "code",
   "execution_count": null,
   "id": "2201866f",
   "metadata": {},
   "outputs": [],
   "source": [
    "money_spent\n"
   ]
  },
  {
   "cell_type": "code",
   "execution_count": null,
   "id": "a79ed950",
   "metadata": {},
   "outputs": [],
   "source": [
    "money_spent.sort_values(by='amount_spent', ascending = False).head()\n"
   ]
  },
  {
   "cell_type": "code",
   "execution_count": null,
   "id": "67984bbb",
   "metadata": {},
   "outputs": [],
   "source": [
    "money_spent.sort_values(by='amount_spent', ascending = False).head(10)\n"
   ]
  },
  {
   "cell_type": "code",
   "execution_count": null,
   "id": "cf146629",
   "metadata": {},
   "outputs": [],
   "source": [
    "money_spent = df_new.groupby(by=['cust_id','country'], as_index=False)['amount_spent'].sum()\n",
    "\n",
    "plt.subplots(figsize=(15,6))\n",
    "\n",
    "plt.plot(money_spent.cust_id, money_spent.amount_spent)\n",
    "\n",
    "plt.xlabel('Customers ID')\n",
    "plt.ylabel('Money spent (Dollar)')\n",
    "plt.title('Money Spent for different Customers')\n",
    "\n",
    "plt.show()\n"
   ]
  },
  {
   "cell_type": "code",
   "execution_count": null,
   "id": "d0ee2239",
   "metadata": {},
   "outputs": [],
   "source": [
    "df_new.head()\n"
   ]
  },
  {
   "cell_type": "code",
   "execution_count": null,
   "id": "a9a357ab",
   "metadata": {},
   "outputs": [],
   "source": [
    "color = sns.color_palette()\n"
   ]
  },
  {
   "cell_type": "code",
   "execution_count": null,
   "id": "d073ea41",
   "metadata": {},
   "outputs": [],
   "source": [
    "df_new.head()\n"
   ]
  },
  {
   "cell_type": "code",
   "execution_count": null,
   "id": "ffa14e97",
   "metadata": {},
   "outputs": [],
   "source": [
    "df_new.groupby('invoice_num')\n"
   ]
  },
  {
   "cell_type": "code",
   "execution_count": null,
   "id": "924effb3",
   "metadata": {},
   "outputs": [],
   "source": [
    " df_new.groupby('invoice_num')['year_month']\n"
   ]
  },
  {
   "cell_type": "code",
   "execution_count": null,
   "id": "a1e98915",
   "metadata": {},
   "outputs": [],
   "source": [
    "df_new.groupby('invoice_num')['year_month'].unique()\n"
   ]
  },
  {
   "cell_type": "code",
   "execution_count": null,
   "id": "d0b5446b",
   "metadata": {},
   "outputs": [],
   "source": [
    "df_new.groupby('invoice_num')['year_month'].unique().value_counts()\n"
   ]
  },
  {
   "cell_type": "code",
   "execution_count": null,
   "id": "5f9196d4",
   "metadata": {},
   "outputs": [],
   "source": [
    "df_new.groupby('invoice_num')['year_month'].unique().value_counts().sort_index()\n"
   ]
  },
  {
   "cell_type": "code",
   "execution_count": null,
   "id": "62da0307",
   "metadata": {},
   "outputs": [],
   "source": [
    "ax = df_new.groupby('invoice_num')['year_month'].unique().value_counts().sort_index().plot(kind = 'bar',color = color[0],figsize = (15,6))\n",
    "\n",
    "ax.set_xlabel('Month and Year',fontsize=15)\n",
    "ax.set_ylabel('Number of Orders',fontsize=15)\n",
    "ax.set_title('Number of orders for different Months (1st Dec 2010 - 9th Dec 2011)', fontsize = 15)\n",
    "\n",
    "t = ('Dec_10','Jan_11','Feb_11','Mar_11','Apr_11','May_11','Jun_11','July_11','Aug_11','Sep_11','Oct_11','Nov_11','Dec_11')\n",
    "\n",
    "ax.set_xticklabels(t, rotation='horizontal', fontsize=13)\n",
    "\n",
    "plt.show()\n"
   ]
  },
  {
   "cell_type": "code",
   "execution_count": null,
   "id": "1371ba23",
   "metadata": {},
   "outputs": [],
   "source": [
    "df_new.groupby('invoice_num')\n"
   ]
  },
  {
   "cell_type": "code",
   "execution_count": null,
   "id": "c2f42026",
   "metadata": {},
   "outputs": [],
   "source": [
    "df_new.groupby('invoice_num')['day']\n"
   ]
  },
  {
   "cell_type": "code",
   "execution_count": null,
   "id": "a89abb0d",
   "metadata": {},
   "outputs": [],
   "source": [
    "df_new.groupby('invoice_num')['day'].unique()\n"
   ]
  },
  {
   "cell_type": "code",
   "execution_count": null,
   "id": "eae2917b",
   "metadata": {},
   "outputs": [],
   "source": [
    "df_new.groupby('invoice_num')['day'].unique().value_counts()\n"
   ]
  },
  {
   "cell_type": "code",
   "execution_count": null,
   "id": "59ac8f43",
   "metadata": {},
   "outputs": [],
   "source": [
    "df_new.groupby('invoice_num')['day'].unique().value_counts().sort_index()\n"
   ]
  },
  {
   "cell_type": "code",
   "execution_count": null,
   "id": "51c16fbb",
   "metadata": {},
   "outputs": [],
   "source": [
    "df_new.head()\n"
   ]
  },
  {
   "cell_type": "code",
   "execution_count": null,
   "id": "ffa5ca3a",
   "metadata": {},
   "outputs": [],
   "source": [
    "df_new.groupby('invoice_num')\n"
   ]
  },
  {
   "cell_type": "code",
   "execution_count": null,
   "id": "3979fb96",
   "metadata": {},
   "outputs": [],
   "source": [
    "df_new.groupby('invoice_num')['day']\n"
   ]
  },
  {
   "cell_type": "code",
   "execution_count": null,
   "id": "a3465e68",
   "metadata": {},
   "outputs": [],
   "source": [
    "df_new.groupby('invoice_num')['day'].unique()\n"
   ]
  },
  {
   "cell_type": "code",
   "execution_count": null,
   "id": "794f5b4c",
   "metadata": {},
   "outputs": [],
   "source": [
    "df_new.groupby('invoice_num')['day'].unique().value_counts()\n"
   ]
  },
  {
   "cell_type": "code",
   "execution_count": null,
   "id": "d3f5c2b9",
   "metadata": {},
   "outputs": [],
   "source": [
    "df_new.groupby('invoice_num')['day'].unique().value_counts().sort_index()\n"
   ]
  },
  {
   "cell_type": "code",
   "execution_count": null,
   "id": "5124456f",
   "metadata": {},
   "outputs": [],
   "source": [
    "ax = df_new.groupby('invoice_num')['day'].unique().value_counts().sort_index().plot(kind = 'bar',color=color[0],figsize=(15,6))\n",
    "\n",
    "ax.set_xlabel('Day',fontsize=15)\n",
    "ax.set_ylabel('Number of Orders',fontsize=15)\n",
    "ax.set_title('Number of orders for different Days',fontsize=15)\n",
    "d = ('Mon','Tue','Wed','Thur','Fri','Sun')\n",
    "ax.set_xticklabels(d, rotation='horizontal', fontsize=15)\n",
    "plt.show()\n"
   ]
  },
  {
   "cell_type": "code",
   "execution_count": null,
   "id": "56078f99",
   "metadata": {},
   "outputs": [],
   "source": [
    "df_new.unit_price.describe()\n"
   ]
  },
  {
   "cell_type": "code",
   "execution_count": null,
   "id": "e512a40c",
   "metadata": {},
   "outputs": [],
   "source": [
    "# check the distribution of unit price\n",
    "plt.subplots(figsize = (12,6))\n",
    "\n",
    "sns.boxplot(df_new.unit_price)\n",
    "plt.show()\n"
   ]
  },
  {
   "cell_type": "code",
   "execution_count": null,
   "id": "6385b05f",
   "metadata": {},
   "outputs": [],
   "source": [
    "df_free = df_new[df_new.unit_price == 0]\n"
   ]
  },
  {
   "cell_type": "code",
   "execution_count": null,
   "id": "92aa4003",
   "metadata": {},
   "outputs": [],
   "source": [
    "len(df_free)\n"
   ]
  },
  {
   "cell_type": "code",
   "execution_count": null,
   "id": "cad523af",
   "metadata": {},
   "outputs": [],
   "source": [
    "df_free.year_month\n"
   ]
  },
  {
   "cell_type": "code",
   "execution_count": null,
   "id": "34030e38",
   "metadata": {},
   "outputs": [],
   "source": [
    "df_free.year_month.value_counts()\n"
   ]
  },
  {
   "cell_type": "code",
   "execution_count": null,
   "id": "5cab9692",
   "metadata": {},
   "outputs": [],
   "source": [
    "df_free.year_month.value_counts().sort_index()\n"
   ]
  },
  {
   "cell_type": "code",
   "execution_count": null,
   "id": "a8dbdfae",
   "metadata": {},
   "outputs": [],
   "source": [
    "ax = df_free.year_month.value_counts().sort_index().plot(kind = 'bar',figsize=(12,6), color=color[0])\n",
    "ax.set_xlabel('Month',fontsize=15)\n",
    "ax.set_ylabel('Frequency',fontsize=15)\n",
    "ax.set_title('Frequency for different Months (Dec 2010 - Dec 2011)',fontsize=15)\n",
    "\n",
    "m = ('Dec_10','Jan_11','Feb_11','Mar_11','Apr_11','May_11','July_11','Aug_11','Sep_11','Oct_11','Nov_11')\n",
    "\n",
    "ax.set_xticklabels(m, rotation='horizontal', fontsize=13)\n",
    "plt.show()\n"
   ]
  },
  {
   "cell_type": "code",
   "execution_count": null,
   "id": "46925314",
   "metadata": {},
   "outputs": [],
   "source": [
    "df_new\n"
   ]
  },
  {
   "cell_type": "code",
   "execution_count": null,
   "id": "6f02b0be",
   "metadata": {},
   "outputs": [],
   "source": [
    "df_new.groupby('country')\n"
   ]
  },
  {
   "cell_type": "code",
   "execution_count": null,
   "id": "2f487d86",
   "metadata": {},
   "outputs": [],
   "source": [
    "df_new.groupby('country')['invoice_num']\n"
   ]
  },
  {
   "cell_type": "code",
   "execution_count": null,
   "id": "f21406ba",
   "metadata": {},
   "outputs": [],
   "source": [
    "df_new.groupby('country')['invoice_num'].count()\n"
   ]
  },
  {
   "cell_type": "code",
   "execution_count": null,
   "id": "638884d3",
   "metadata": {},
   "outputs": [],
   "source": [
    "df_new.groupby('country')['invoice_num'].count().sort_values()\n"
   ]
  },
  {
   "cell_type": "code",
   "execution_count": null,
   "id": "1075593e",
   "metadata": {},
   "outputs": [],
   "source": [
    "group_country_orders = df_new.groupby('country')['invoice_num'].count().sort_values()\n",
    "# del group_country_orders['United Kingdom']\n",
    "\n",
    "# plot number of unique customers in each country (with UK)\n",
    "plt.subplots(figsize=(15,8))\n",
    "group_country_orders.plot(kind = 'barh', fontsize=12, color=color[0])\n",
    "plt.xlabel('Number of Orders', fontsize=12)\n",
    "plt.ylabel('Country', fontsize=12)\n",
    "plt.title('Number of Orders for different Countries', fontsize=12)\n",
    "plt.show()\n"
   ]
  },
  {
   "cell_type": "code",
   "execution_count": null,
   "id": "dae47606",
   "metadata": {},
   "outputs": [],
   "source": [
    "group_country_orders = df_new.groupby('country')['invoice_num'].count().sort_values()\n",
    "del group_country_orders['United Kingdom']\n",
    "\n",
    "# plot number of unique customers in each country (with UK)\n",
    "plt.subplots(figsize=(15,8))\n",
    "group_country_orders.plot(kind = 'barh', fontsize=12, color=color[0])\n",
    "plt.xlabel('Number of Orders', fontsize=12)\n",
    "plt.ylabel('Country', fontsize=12)\n",
    "plt.title('Number of Orders for different Countries', fontsize=12)\n",
    "plt.show()\n"
   ]
  },
  {
   "cell_type": "code",
   "execution_count": null,
   "id": "b7f802d8",
   "metadata": {},
   "outputs": [],
   "source": [
    "df_new\n"
   ]
  },
  {
   "cell_type": "code",
   "execution_count": null,
   "id": "db9d3823",
   "metadata": {},
   "outputs": [],
   "source": [
    "df_new.groupby('country')\n"
   ]
  },
  {
   "cell_type": "code",
   "execution_count": null,
   "id": "c47736ba",
   "metadata": {},
   "outputs": [],
   "source": [
    "df_new.groupby('country')['amount_spent']\n"
   ]
  },
  {
   "cell_type": "code",
   "execution_count": null,
   "id": "26972cb7",
   "metadata": {},
   "outputs": [],
   "source": [
    "df_new.groupby('country')['amount_spent'].sum()\n"
   ]
  },
  {
   "cell_type": "code",
   "execution_count": null,
   "id": "69a62dbb",
   "metadata": {},
   "outputs": [],
   "source": [
    "df_new.groupby('country')['amount_spent'].sum().sort_values()\n"
   ]
  },
  {
   "cell_type": "code",
   "execution_count": null,
   "id": "654f58c7",
   "metadata": {},
   "outputs": [],
   "source": [
    "group_country_amount_spent = df_new.groupby('country')['amount_spent'].sum().sort_values()\n",
    "# del group_country_orders['United Kingdom']\n",
    "\n",
    "# plot total money spent by each country (with UK)\n",
    "plt.subplots(figsize=(15,8))\n",
    "group_country_amount_spent.plot(kind = 'barh', fontsize=12, color=color[0])\n",
    "plt.xlabel('Money Spent (Dollar)', fontsize=12)\n",
    "plt.ylabel('Country', fontsize=12)\n",
    "plt.title('Money Spent by different Countries', fontsize=12)\n",
    "plt.show()\n"
   ]
  },
  {
   "cell_type": "code",
   "execution_count": null,
   "id": "099cf58b",
   "metadata": {},
   "outputs": [],
   "source": [
    "group_country_amount_spent = df_new.groupby('country')['amount_spent'].sum().sort_values()\n",
    "del group_country_amount_spent['United Kingdom']\n",
    "\n",
    "# plot total money spent by each country (without UK)\n",
    "plt.subplots(figsize=(15,8))\n",
    "group_country_amount_spent.plot(kind = 'barh', fontsize=12, color=color[0])\n",
    "plt.xlabel('Money Spent (Dollar)', fontsize=12)\n",
    "plt.ylabel('Country', fontsize=12)\n",
    "plt.title('Money Spent by different Countries', fontsize=12)\n",
    "plt.show()\n"
   ]
  }
 ],
 "metadata": {},
 "nbformat": 4,
 "nbformat_minor": 5
}
